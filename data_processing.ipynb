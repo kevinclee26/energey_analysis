<<<<<<< Updated upstream
# import data

# remove duplicates

# convert data formats
=======
# format datetime

# merge data
>>>>>>> Stashed changes
